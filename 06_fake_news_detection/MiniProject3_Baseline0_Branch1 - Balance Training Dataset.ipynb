{
 "cells": [
  {
   "cell_type": "markdown",
   "metadata": {},
   "source": [
    "# Problem Statement 2: Fake News\n",
    "Fake contents are everywhere from social media platforms, news platforms and there is a big list. Considering the advancement in NLP research institutes are putting a lot of sweat, blood, and tears to detect the fake content generated across the platforms.\n",
    "\n",
    "Fake news, defined by the New York Times as “a made-up story with an intention to deceive”, often for a secondary gain, is arguably one of the most serious challenges facing the news industry today. In a December Pew Research poll, 64% of US adults said that “made-up news” has caused a “great deal of confusion” about the facts of current events.\n",
    "\n",
    "## Content\n",
    "Your goal as a data scientist is to create an NLP model, to combat fake content problems. We believe that these AI technologies hold promise for significantly automating parts of the procedure human fact-checkers use today to determine if a story is real or a hoax.\n",
    "- Text - Raw content from social media/ new platforms\n",
    "- Text_Tag - Different types of content tags\n",
    "- Labels - Represents various classes of Labels\n",
    "    - Half-True - 2\n",
    "    - False - 1\n",
    "    - Mostly-True - 3\n",
    "    - True - 5\n",
    "    - Barely-True - 0\n",
    "    - Not-Known - 4\n",
    "\n",
    "References\n",
    "https://www.machinehack.com/hackathons/fake_news_content_detection_weekend_hackathon_20/overview\n"
   ]
  },
  {
   "cell_type": "code",
   "execution_count": 1,
   "metadata": {
    "scrolled": true
   },
   "outputs": [
    {
     "name": "stdout",
     "output_type": "stream",
     "text": [
      "MINI PROJECT 3 - PROBLEM STATEMENT 2: FAKE NEWS\n",
      "========================================================================================\n",
      "Python: \t 3.8.5 (default, Sep  3 2020, 21:29:08) [MSC v.1916 64 bit (AMD64)]\n",
      "Scipy:  \t 1.5.2\n",
      "SKLearn:  \t 0.23.2\n",
      "Numpy:  \t 1.19.2\n",
      "Pandas: \t 1.1.3\n",
      "MatPlotLib: \t 3.3.2\n",
      "Author: \t Lawrance Koh (@LK)\n",
      "Team:   \t Jav & Lawrance (@LK)\n",
      "======================================================================================== \n",
      "\n"
     ]
    }
   ],
   "source": [
    "#import libraries\n",
    "import sys\n",
    "import scipy\n",
    "import sklearn\n",
    "import numpy as np\n",
    "import pandas as pd\n",
    "import matplotlib\n",
    "import matplotlib.pyplot as plt\n",
    "import seaborn as sns\n",
    "\n",
    "from collections import Counter\n",
    "\n",
    "import sklearn\n",
    "from sklearn import preprocessing\n",
    "\n",
    "from sklearn.model_selection import train_test_split\n",
    "from sklearn.model_selection import cross_val_score\n",
    "\n",
    "from sklearn.feature_extraction.text import CountVectorizer\n",
    "from sklearn.feature_extraction.text import TfidfVectorizer\n",
    "\n",
    "from sklearn.metrics import confusion_matrix\n",
    "from sklearn.metrics import plot_confusion_matrix\n",
    "from sklearn.metrics import accuracy_score\n",
    "from sklearn.metrics import precision_score\n",
    "from sklearn.metrics import recall_score\n",
    "from sklearn.metrics import average_precision_score\n",
    "from sklearn.metrics import roc_auc_score\n",
    "from sklearn.metrics import precision_recall_curve\n",
    "from sklearn.metrics import roc_curve\n",
    "from sklearn.metrics import auc\n",
    "\n",
    "import spacy\n",
    "import re\n",
    "import string\n",
    "\n",
    "#suppress warnings\n",
    "import warnings\n",
    "warnings.filterwarnings(\"ignore\")\n",
    "\n",
    "# Cause plots to be displayed in the notebook:\n",
    "%matplotlib inline\n",
    "#print('Available plot styles: ' + str(plt.style.available))\n",
    "plt.style.use('seaborn-whitegrid')\n",
    "print('MINI PROJECT 3 - PROBLEM STATEMENT 2: FAKE NEWS')\n",
    "print('='*88)\n",
    "print('Python: \\t', sys.version)\n",
    "print('Scipy:  \\t', scipy.__version__)\n",
    "print('SKLearn:  \\t', sklearn.__version__)\n",
    "print('Numpy:  \\t', np.__version__)\n",
    "print('Pandas: \\t', pd.__version__)\n",
    "print('MatPlotLib: \\t', matplotlib.__version__)\n",
    "print('Author: \\t Lawrance Koh (@LK)')\n",
    "print('Team:   \\t Jav & Lawrance (@LK)')\n",
    "print('='*88, \"\\n\")\n"
   ]
  },
  {
   "cell_type": "code",
   "execution_count": 2,
   "metadata": {},
   "outputs": [],
   "source": [
    "#read data\n",
    "train_csv = 'Participants_Data_WH20/Participants_Data_WH20/Train.csv'\n",
    "test_csv = 'Participants_Data_WH20/Participants_Data_WH20/Test.csv'\n",
    "\n",
    "df = pd.read_csv(train_csv)\n",
    "test_df = pd.read_csv(test_csv)\n"
   ]
  },
  {
   "cell_type": "code",
   "execution_count": 3,
   "metadata": {},
   "outputs": [
    {
     "name": "stdout",
     "output_type": "stream",
     "text": [
      "<class 'pandas.core.frame.DataFrame'>\n",
      "RangeIndex: 10240 entries, 0 to 10239\n",
      "Data columns (total 3 columns):\n",
      " #   Column    Non-Null Count  Dtype \n",
      "---  ------    --------------  ----- \n",
      " 0   Labels    10240 non-null  int64 \n",
      " 1   Text      10240 non-null  object\n",
      " 2   Text_Tag  10238 non-null  object\n",
      "dtypes: int64(1), object(2)\n",
      "memory usage: 240.1+ KB\n"
     ]
    }
   ],
   "source": [
    "df.info()"
   ]
  },
  {
   "cell_type": "code",
   "execution_count": 4,
   "metadata": {},
   "outputs": [
    {
     "data": {
      "text/plain": [
       "2    2114\n",
       "1    1995\n",
       "3    1962\n",
       "5    1676\n",
       "0    1654\n",
       "4     839\n",
       "Name: Labels, dtype: int64"
      ]
     },
     "execution_count": 4,
     "metadata": {},
     "output_type": "execute_result"
    }
   ],
   "source": [
    "#there were 2 null values in Text_Tag; proceed to fill with empty strings\n",
    "df['Text_Tag'].fillna('', inplace=True)\n",
    "\n",
    "df['Labels'].value_counts()"
   ]
  },
  {
   "cell_type": "markdown",
   "metadata": {},
   "source": [
    "#### Comment: 839 data points in training data were labelled as 'unknown'; add these to test set and drop them from training set."
   ]
  },
  {
   "cell_type": "code",
   "execution_count": 5,
   "metadata": {},
   "outputs": [
    {
     "name": "stdout",
     "output_type": "stream",
     "text": [
      "<class 'pandas.core.frame.DataFrame'>\n",
      "RangeIndex: 1267 entries, 0 to 1266\n",
      "Data columns (total 2 columns):\n",
      " #   Column    Non-Null Count  Dtype \n",
      "---  ------    --------------  ----- \n",
      " 0   Text      1267 non-null   object\n",
      " 1   Text_Tag  1267 non-null   object\n",
      "dtypes: object(2)\n",
      "memory usage: 19.9+ KB\n"
     ]
    }
   ],
   "source": [
    "test_df.info()"
   ]
  },
  {
   "cell_type": "markdown",
   "metadata": {},
   "source": [
    "#### Comment: 1267 data points exists in original test set."
   ]
  },
  {
   "cell_type": "code",
   "execution_count": 6,
   "metadata": {},
   "outputs": [
    {
     "name": "stdout",
     "output_type": "stream",
     "text": [
      "<class 'pandas.core.frame.DataFrame'>\n",
      "Int64Index: 2106 entries, 0 to 10239\n",
      "Data columns (total 2 columns):\n",
      " #   Column    Non-Null Count  Dtype \n",
      "---  ------    --------------  ----- \n",
      " 0   Text      2106 non-null   object\n",
      " 1   Text_Tag  2106 non-null   object\n",
      "dtypes: object(2)\n",
      "memory usage: 49.4+ KB\n"
     ]
    }
   ],
   "source": [
    "#drop 'Not Known' data from training set; add to test set\n",
    "temp_df = df[df['Labels']==4].drop(columns=['Labels'])\n",
    "test_df = pd.concat([test_df, temp_df]) # concat the final data set to retest\n",
    "test_df.info()"
   ]
  },
  {
   "cell_type": "markdown",
   "metadata": {},
   "source": [
    "#### Comment: 2106 data points in total after adding from training set with 'unknown' labels."
   ]
  },
  {
   "cell_type": "code",
   "execution_count": 7,
   "metadata": {},
   "outputs": [
    {
     "name": "stdout",
     "output_type": "stream",
     "text": [
      "<class 'pandas.core.frame.DataFrame'>\n",
      "Int64Index: 7287 entries, 0 to 10238\n",
      "Data columns (total 3 columns):\n",
      " #   Column    Non-Null Count  Dtype \n",
      "---  ------    --------------  ----- \n",
      " 0   Labels    7287 non-null   int64 \n",
      " 1   Text      7287 non-null   object\n",
      " 2   Text_Tag  7287 non-null   object\n",
      "dtypes: int64(1), object(2)\n",
      "memory usage: 227.7+ KB\n"
     ]
    }
   ],
   "source": [
    "df.drop(labels=df[df['Labels']==4].index, inplace=True) # drop unknown\n",
    "df.drop(labels=df[df['Labels']==2].index, inplace=True) # drop half true\n",
    "df.info()"
   ]
  },
  {
   "cell_type": "code",
   "execution_count": 8,
   "metadata": {},
   "outputs": [
    {
     "data": {
      "text/plain": [
       "1    1995\n",
       "3    1962\n",
       "5    1676\n",
       "0    1654\n",
       "Name: Labels, dtype: int64"
      ]
     },
     "execution_count": 8,
     "metadata": {},
     "output_type": "execute_result"
    }
   ],
   "source": [
    "df['Labels'].value_counts()"
   ]
  },
  {
   "cell_type": "markdown",
   "metadata": {},
   "source": [
    "#### Comment: Re-classify 'false'(1), 'barely true'(0) and 'half true'(2) as FAKE NEWS(1); while 'true'(5) and 'mostly true'(3) as REAL NEWS(0)"
   ]
  },
  {
   "cell_type": "code",
   "execution_count": 9,
   "metadata": {},
   "outputs": [
    {
     "data": {
      "text/plain": [
       "1    3649\n",
       "0    3638\n",
       "Name: Fake, dtype: int64"
      ]
     },
     "execution_count": 9,
     "metadata": {},
     "output_type": "execute_result"
    }
   ],
   "source": [
    "df['Fake'] = df['Labels'].apply(lambda x: 1 if x==0 or x==1 or x==2 else 0)\n",
    "df['Fake'].value_counts()"
   ]
  },
  {
   "cell_type": "code",
   "execution_count": 10,
   "metadata": {
    "scrolled": false
   },
   "outputs": [
    {
     "data": {
      "text/html": [
       "<div>\n",
       "<style scoped>\n",
       "    .dataframe tbody tr th:only-of-type {\n",
       "        vertical-align: middle;\n",
       "    }\n",
       "\n",
       "    .dataframe tbody tr th {\n",
       "        vertical-align: top;\n",
       "    }\n",
       "\n",
       "    .dataframe thead th {\n",
       "        text-align: right;\n",
       "    }\n",
       "</style>\n",
       "<table border=\"1\" class=\"dataframe\">\n",
       "  <thead>\n",
       "    <tr style=\"text-align: right;\">\n",
       "      <th></th>\n",
       "      <th>Labels</th>\n",
       "      <th>Text</th>\n",
       "      <th>Text_Tag</th>\n",
       "      <th>Fake</th>\n",
       "    </tr>\n",
       "  </thead>\n",
       "  <tbody>\n",
       "    <tr>\n",
       "      <th>8949</th>\n",
       "      <td>1</td>\n",
       "      <td>On whether President Obamas speeches to school...</td>\n",
       "      <td>education</td>\n",
       "      <td>1</td>\n",
       "    </tr>\n",
       "    <tr>\n",
       "      <th>7238</th>\n",
       "      <td>1</td>\n",
       "      <td>On support for Ronald Reagans policies</td>\n",
       "      <td>history</td>\n",
       "      <td>1</td>\n",
       "    </tr>\n",
       "    <tr>\n",
       "      <th>8150</th>\n",
       "      <td>3</td>\n",
       "      <td>Between 40 and 50 percent of tax filers do not...</td>\n",
       "      <td>taxes</td>\n",
       "      <td>0</td>\n",
       "    </tr>\n",
       "    <tr>\n",
       "      <th>5095</th>\n",
       "      <td>3</td>\n",
       "      <td>Says using E-Verify is a fair amount of cost, ...</td>\n",
       "      <td>immigration</td>\n",
       "      <td>0</td>\n",
       "    </tr>\n",
       "    <tr>\n",
       "      <th>4038</th>\n",
       "      <td>0</td>\n",
       "      <td>After 9/11, Jim put us all first by serving fo...</td>\n",
       "      <td>public-service</td>\n",
       "      <td>1</td>\n",
       "    </tr>\n",
       "    <tr>\n",
       "      <th>3009</th>\n",
       "      <td>1</td>\n",
       "      <td>About 800 people refused to get a drug screeni...</td>\n",
       "      <td>drugs,welfare</td>\n",
       "      <td>1</td>\n",
       "    </tr>\n",
       "    <tr>\n",
       "      <th>3114</th>\n",
       "      <td>1</td>\n",
       "      <td>Louisiana gets \"not one single penny\" from Gul...</td>\n",
       "      <td>energy,environment,federal-budget,oil-spill</td>\n",
       "      <td>1</td>\n",
       "    </tr>\n",
       "    <tr>\n",
       "      <th>3959</th>\n",
       "      <td>3</td>\n",
       "      <td>Says on the state level, we spend less today t...</td>\n",
       "      <td>state-budget,state-finances</td>\n",
       "      <td>0</td>\n",
       "    </tr>\n",
       "    <tr>\n",
       "      <th>2202</th>\n",
       "      <td>1</td>\n",
       "      <td>The countrys bankrupt.</td>\n",
       "      <td>bankruptcy,deficit,federal-budget</td>\n",
       "      <td>1</td>\n",
       "    </tr>\n",
       "    <tr>\n",
       "      <th>5881</th>\n",
       "      <td>3</td>\n",
       "      <td>Says a state bill checks the spending habits o...</td>\n",
       "      <td>county-budget,county-government,states</td>\n",
       "      <td>0</td>\n",
       "    </tr>\n",
       "  </tbody>\n",
       "</table>\n",
       "</div>"
      ],
      "text/plain": [
       "      Labels                                               Text  \\\n",
       "8949       1  On whether President Obamas speeches to school...   \n",
       "7238       1             On support for Ronald Reagans policies   \n",
       "8150       3  Between 40 and 50 percent of tax filers do not...   \n",
       "5095       3  Says using E-Verify is a fair amount of cost, ...   \n",
       "4038       0  After 9/11, Jim put us all first by serving fo...   \n",
       "3009       1  About 800 people refused to get a drug screeni...   \n",
       "3114       1  Louisiana gets \"not one single penny\" from Gul...   \n",
       "3959       3  Says on the state level, we spend less today t...   \n",
       "2202       1                             The countrys bankrupt.   \n",
       "5881       3  Says a state bill checks the spending habits o...   \n",
       "\n",
       "                                         Text_Tag  Fake  \n",
       "8949                                    education     1  \n",
       "7238                                      history     1  \n",
       "8150                                        taxes     0  \n",
       "5095                                  immigration     0  \n",
       "4038                               public-service     1  \n",
       "3009                                drugs,welfare     1  \n",
       "3114  energy,environment,federal-budget,oil-spill     1  \n",
       "3959                  state-budget,state-finances     0  \n",
       "2202            bankruptcy,deficit,federal-budget     1  \n",
       "5881       county-budget,county-government,states     0  "
      ]
     },
     "execution_count": 10,
     "metadata": {},
     "output_type": "execute_result"
    }
   ],
   "source": [
    "df.sample(10)"
   ]
  },
  {
   "cell_type": "markdown",
   "metadata": {},
   "source": [
    "#### Comment: Inspect Text_Tag"
   ]
  },
  {
   "cell_type": "code",
   "execution_count": 11,
   "metadata": {},
   "outputs": [
    {
     "data": {
      "text/plain": [
       "health-care                                  268\n",
       "taxes                                        219\n",
       "elections                                    186\n",
       "education                                    176\n",
       "immigration                                  170\n",
       "                                            ... \n",
       "health-care,message-machine,voting-record      1\n",
       "abortion,supreme-court                         1\n",
       "federal-budget,foreign-policy,history          1\n",
       "pensions,state-budget                          1\n",
       "state-budget,state-finances,wealth             1\n",
       "Name: Text_Tag, Length: 2909, dtype: int64"
      ]
     },
     "execution_count": 11,
     "metadata": {},
     "output_type": "execute_result"
    }
   ],
   "source": [
    "#check to see if Text_Tag should be used as feature to predict Fake News\n",
    "df['Text_Tag'].value_counts()"
   ]
  },
  {
   "cell_type": "markdown",
   "metadata": {},
   "source": [
    "#### Comment: Feature Engineering [not used]\n"
   ]
  },
  {
   "cell_type": "code",
   "execution_count": 12,
   "metadata": {},
   "outputs": [
    {
     "data": {
      "text/plain": [
       "'\\n%%time\\n\\ncv = CountVectorizer(analyzer=\\'char\\')\\ncv_fit = cv.fit_transform(df[\\'Text\\'])\\ndf[\\'char_count\\'] = cv_fit.toarray().sum(axis=1)\\n\\ncv = CountVectorizer(analyzer=\\'word\\')\\ncv_fit = cv.fit_transform(df[\\'Text\\'])\\ndf[\\'word_count\\'] = cv_fit.toarray().sum(axis=1)\\n\\ndf[\\'word_density\\'] = df[\\'char_count\\'] / df[\\'word_count\\']\\ndf[\\'punctuation_count\\'] = df[\"Text\"].str.count(r\\'[^\\\\w\\\\s]\\')\\ndf[\\'title_word_count\\'] = df[\\'Text\\'].apply(lambda x: len([w for w in x.split() if w.istitle()]))\\ndf[\\'uppercase_word_count\\'] = df[\"Text\"].str.count(r\\'[A-Z]\\')\\n\\n## load spaCy\\nnlp = spacy.load(\\'en_core_web_sm\\')\\n\\n# Initialise some columns for feature\\'s counts\\ndf[\\'adj_count\\'] = 0\\ndf[\\'adv_count\\'] = 0\\ndf[\\'noun_count\\'] = 0\\ndf[\\'num_count\\'] = 0\\ndf[\\'pron_count\\'] = 0\\ndf[\\'propn_count\\'] = 0\\ndf[\\'verb_count\\'] = 0\\n\\nfor j in range(len(df)):\\n    tokens = nlp(df[\\'Text\\'].iloc[j])\\n    t_list = []\\n    for i, t in enumerate(tokens):\\n        t_list.append(t.pos_)\\n    c = Counter(t_list)\\n    df[\\'adj_count\\'].iloc[j] = c[\\'ADJ\\']\\n    df[\\'adv_count\\'].iloc[j] = c[\\'ADV\\']\\n    df[\\'noun_count\\'].iloc[j] = c[\\'NOUN\\']\\n    df[\\'num_count\\'].iloc[j] = c[\\'NUM\\']\\n    df[\\'pron_count\\'].iloc[j] = c[\\'PRON\\']\\n    df[\\'propn_count\\'].iloc[j] = c[\\'PROPN\\']\\n    df[\\'verb_count\\'].iloc[j] = c[\\'VERB\\']\\n'"
      ]
     },
     "execution_count": 12,
     "metadata": {},
     "output_type": "execute_result"
    }
   ],
   "source": [
    "'''\n",
    "%%time\n",
    "\n",
    "cv = CountVectorizer(analyzer='char')\n",
    "cv_fit = cv.fit_transform(df['Text'])\n",
    "df['char_count'] = cv_fit.toarray().sum(axis=1)\n",
    "\n",
    "cv = CountVectorizer(analyzer='word')\n",
    "cv_fit = cv.fit_transform(df['Text'])\n",
    "df['word_count'] = cv_fit.toarray().sum(axis=1)\n",
    "\n",
    "df['word_density'] = df['char_count'] / df['word_count']\n",
    "df['punctuation_count'] = df[\"Text\"].str.count(r'[^\\w\\s]')\n",
    "df['title_word_count'] = df['Text'].apply(lambda x: len([w for w in x.split() if w.istitle()]))\n",
    "df['uppercase_word_count'] = df[\"Text\"].str.count(r'[A-Z]')\n",
    "\n",
    "## load spaCy\n",
    "nlp = spacy.load('en_core_web_sm')\n",
    "\n",
    "# Initialise some columns for feature's counts\n",
    "df['adj_count'] = 0\n",
    "df['adv_count'] = 0\n",
    "df['noun_count'] = 0\n",
    "df['num_count'] = 0\n",
    "df['pron_count'] = 0\n",
    "df['propn_count'] = 0\n",
    "df['verb_count'] = 0\n",
    "\n",
    "for j in range(len(df)):\n",
    "    tokens = nlp(df['Text'].iloc[j])\n",
    "    t_list = []\n",
    "    for i, t in enumerate(tokens):\n",
    "        t_list.append(t.pos_)\n",
    "    c = Counter(t_list)\n",
    "    df['adj_count'].iloc[j] = c['ADJ']\n",
    "    df['adv_count'].iloc[j] = c['ADV']\n",
    "    df['noun_count'].iloc[j] = c['NOUN']\n",
    "    df['num_count'].iloc[j] = c['NUM']\n",
    "    df['pron_count'].iloc[j] = c['PRON']\n",
    "    df['propn_count'].iloc[j] = c['PROPN']\n",
    "    df['verb_count'].iloc[j] = c['VERB']\n",
    "'''"
   ]
  },
  {
   "cell_type": "markdown",
   "metadata": {},
   "source": [
    "#### Comment: Parse with spacy"
   ]
  },
  {
   "cell_type": "code",
   "execution_count": 13,
   "metadata": {},
   "outputs": [
    {
     "data": {
      "text/html": [
       "<div>\n",
       "<style scoped>\n",
       "    .dataframe tbody tr th:only-of-type {\n",
       "        vertical-align: middle;\n",
       "    }\n",
       "\n",
       "    .dataframe tbody tr th {\n",
       "        vertical-align: top;\n",
       "    }\n",
       "\n",
       "    .dataframe thead th {\n",
       "        text-align: right;\n",
       "    }\n",
       "</style>\n",
       "<table border=\"1\" class=\"dataframe\">\n",
       "  <thead>\n",
       "    <tr style=\"text-align: right;\">\n",
       "      <th></th>\n",
       "      <th>Labels</th>\n",
       "      <th>Fake</th>\n",
       "    </tr>\n",
       "  </thead>\n",
       "  <tbody>\n",
       "    <tr>\n",
       "      <th>count</th>\n",
       "      <td>7287.000000</td>\n",
       "      <td>7287.000000</td>\n",
       "    </tr>\n",
       "    <tr>\n",
       "      <th>mean</th>\n",
       "      <td>2.231508</td>\n",
       "      <td>0.500755</td>\n",
       "    </tr>\n",
       "    <tr>\n",
       "      <th>std</th>\n",
       "      <td>1.862205</td>\n",
       "      <td>0.500034</td>\n",
       "    </tr>\n",
       "    <tr>\n",
       "      <th>min</th>\n",
       "      <td>0.000000</td>\n",
       "      <td>0.000000</td>\n",
       "    </tr>\n",
       "    <tr>\n",
       "      <th>25%</th>\n",
       "      <td>1.000000</td>\n",
       "      <td>0.000000</td>\n",
       "    </tr>\n",
       "    <tr>\n",
       "      <th>50%</th>\n",
       "      <td>1.000000</td>\n",
       "      <td>1.000000</td>\n",
       "    </tr>\n",
       "    <tr>\n",
       "      <th>75%</th>\n",
       "      <td>3.000000</td>\n",
       "      <td>1.000000</td>\n",
       "    </tr>\n",
       "    <tr>\n",
       "      <th>max</th>\n",
       "      <td>5.000000</td>\n",
       "      <td>1.000000</td>\n",
       "    </tr>\n",
       "  </tbody>\n",
       "</table>\n",
       "</div>"
      ],
      "text/plain": [
       "            Labels         Fake\n",
       "count  7287.000000  7287.000000\n",
       "mean      2.231508     0.500755\n",
       "std       1.862205     0.500034\n",
       "min       0.000000     0.000000\n",
       "25%       1.000000     0.000000\n",
       "50%       1.000000     1.000000\n",
       "75%       3.000000     1.000000\n",
       "max       5.000000     1.000000"
      ]
     },
     "execution_count": 13,
     "metadata": {},
     "output_type": "execute_result"
    }
   ],
   "source": [
    "df.describe()"
   ]
  },
  {
   "cell_type": "markdown",
   "metadata": {},
   "source": [
    "#### Comment: Start Training and Compare accuracies between models"
   ]
  },
  {
   "cell_type": "code",
   "execution_count": 14,
   "metadata": {},
   "outputs": [],
   "source": [
    "## helper functions\n",
    "\n",
    "def train_model(classifier, feature_vector_train, label, feature_vector_valid, feature_vector_test):\n",
    "    # fit the training dataset on the classifier\n",
    "    classifier.fit(feature_vector_train, label)\n",
    "\n",
    "    # predict the labels on validation dataset\n",
    "    predictions = classifier.predict(feature_vector_valid)\n",
    "\n",
    "    #return accuracy_score(predictions, y_test)\n",
    "    return show_summary_report(feature_vector_test, predictions)\n",
    "\n",
    "def show_summary_report(actual, prediction):\n",
    "\n",
    "    if isinstance(actual, pd.Series):\n",
    "        actual = actual.values\n",
    "    if actual.dtype.name == 'object':\n",
    "        actual = actual.astype(int)\n",
    "    if prediction.dtype.name == 'object':\n",
    "        prediction = prediction.astype(int)\n",
    "\n",
    "    accuracy_ = accuracy_score(actual, prediction)\n",
    "    precision_ = precision_score(actual, prediction)\n",
    "    recall_ = recall_score(actual, prediction)\n",
    "    roc_auc_ = roc_auc_score(actual, prediction)\n",
    "\n",
    "    print('Accuracy : %.4f [TP / N] Proportion of predicted labels that match the true labels. Best: 1, Worst: 0' % accuracy_)\n",
    "    print('Precision: %.4f [TP / (TP + FP)] Not to label a negative sample as positive.        Best: 1, Worst: 0' % precision_)\n",
    "    print('Recall   : %.4f [TP / (TP + FN)] Find all the positive samples.                     Best: 1, Worst: 0' % recall_)\n",
    "    print('ROC AUC  : %.4f                                                                     Best: 1, Worst: < 0.5' % roc_auc_)\n",
    "    print('-' * 107)\n",
    "    print('TP: True Positives, FP: False Positives, TN: True Negatives, FN: False Negatives, N: Number of samples')\n",
    "\n",
    "    # Confusion Matrix\n",
    "    mat = confusion_matrix(actual, prediction)\n",
    "\n",
    "    # Precision/Recall\n",
    "    precision, recall, _ = precision_recall_curve(actual, prediction)\n",
    "    average_precision = average_precision_score(actual, prediction)\n",
    "    \n",
    "    # Compute ROC curve and ROC area\n",
    "    fpr, tpr, _ = roc_curve(actual, prediction)\n",
    "    roc_auc = auc(fpr, tpr)\n",
    "\n",
    "    # plot\n",
    "    fig, ax = plt.subplots(1, 3, figsize = (18, 6))\n",
    "    fig.subplots_adjust(left = 0.02, right = 0.98, wspace = 0.2)\n",
    "\n",
    "    # Confusion Matrix\n",
    "    sns.heatmap(mat.T, square = True, annot = True, fmt = 'd', cbar = False, cmap = 'Blues', ax = ax[0])\n",
    "\n",
    "    ax[0].set_title('Confusion Matrix')\n",
    "    ax[0].set_xlabel('True label')\n",
    "    ax[0].set_ylabel('Predicted label')\n",
    "    \n",
    "    # Precision/Recall\n",
    "    step_kwargs = {'step': 'post'}\n",
    "    ax[1].step(recall, precision, color = 'b', alpha = 0.2, where = 'post')\n",
    "    ax[1].fill_between(recall, precision, alpha = 0.2, color = 'b', **step_kwargs)\n",
    "    ax[1].set_ylim([0.0, 1.0])\n",
    "    ax[1].set_xlim([0.0, 1.0])\n",
    "    ax[1].set_xlabel('Recall')\n",
    "    ax[1].set_ylabel('Precision')\n",
    "    ax[1].set_title('2-class Precision-Recall curve')\n",
    "\n",
    "    # ROC\n",
    "    ax[2].plot(fpr, tpr, color = 'darkorange', lw = 2, label = 'ROC curve (AUC = %0.2f)' % roc_auc)\n",
    "    ax[2].plot([0, 1], [0, 1], color = 'navy', lw = 2, linestyle = '--')\n",
    "    ax[2].set_xlim([0.0, 1.0])\n",
    "    ax[2].set_ylim([0.0, 1.0])\n",
    "    ax[2].set_xlabel('False Positive Rate')\n",
    "    ax[2].set_ylabel('True Positive Rate')\n",
    "    ax[2].set_title('Receiver Operating Characteristic')\n",
    "    ax[2].legend(loc = 'lower right')\n",
    "\n",
    "    plt.show()\n",
    "    \n",
    "    return (accuracy_, precision_, recall_, roc_auc_)\n",
    "\n",
    "def plot_distribution(datafile):\n",
    "    return sns.countplot(x='Fake', data=datafile, palette='hls')\n",
    "\n",
    "def clean_text(text):\n",
    "    text = text.lower()\n",
    "    text = re.sub('\\[.*?\\]', '', text)\n",
    "    text = re.sub('\\\\W', ' ', text)\n",
    "    text = re.sub('https?://\\S+|www\\.\\S+', '', text)\n",
    "    text = re.sub('<.*?>+', '', text)\n",
    "    text = re.sub('[%s]' % re.escape(string.punctuation), '', text)\n",
    "    text = re.sub('\\n', '', text)\n",
    "    text = re.sub('\\w*\\d\\w*', '', text)\n",
    "    return text\n",
    "\n",
    "nlp = spacy.load('en_core_web_sm')\n",
    "\n",
    "def parse_text(text):\n",
    "    sent = nlp(text)\n",
    "    ents = {x.text: x for x in sent.ents}\n",
    "    tokens = []\n",
    "    for w in sent:\n",
    "        if w.is_stop or w.is_punct or w.is_digit:\n",
    "            continue\n",
    "        if w.text in ents:\n",
    "            tokens.append(w.text)\n",
    "        else:\n",
    "            tokens.append(w.lemma_.lower())\n",
    "    text = ' '.join(tokens)\n",
    "    \n",
    "    #clean up\n",
    "    text = re.sub(r'[,-]', ' ', text)\n",
    "    \n",
    "    return text\n",
    "\n",
    "#initialise dataframe to view results\n",
    "df_results = pd.DataFrame(columns=[['Accuracy', 'Precision', 'Recall', 'ROC_AUC']])\n"
   ]
  },
  {
   "cell_type": "code",
   "execution_count": 15,
   "metadata": {},
   "outputs": [
    {
     "data": {
      "text/plain": [
       "<AxesSubplot:xlabel='Fake', ylabel='count'>"
      ]
     },
     "execution_count": 15,
     "metadata": {},
     "output_type": "execute_result"
    },
    {
     "data": {
      "image/png": "[encoded data removed]",
      "text/plain": [
       "<Figure size 432x288 with 1 Axes>"
      ]
     },
     "metadata": {},
     "output_type": "display_data"
    }
   ],
   "source": [
    "plot_distribution(df)"
   ]
  },
  {
   "cell_type": "code",
   "execution_count": 16,
   "metadata": {},
   "outputs": [
    {
     "name": "stdout",
     "output_type": "stream",
     "text": [
      "Wall time: 33.4 s\n"
     ]
    },
    {
     "data": {
      "text/plain": [
       "0        say annies list political group support trimes...\n",
       "2        hillary clinton agree john mccain vote george ...\n",
       "3        health care reform legislation likely mandate ...\n",
       "5        chicago bears start quarterback year total num...\n",
       "6                 jim dunnam live district represent years\n",
       "                               ...                        \n",
       "10229                     mike trainor owe $ 250 000 state\n",
       "10230    supreme courts view radically step public opin...\n",
       "10235    large number shark attack Florida case voter f...\n",
       "10236             Democrats party Atlanta metro area black\n",
       "10238            lift U.S. Cuban embargo allow travel Cuba\n",
       "Name: Text, Length: 7287, dtype: object"
      ]
     },
     "execution_count": 16,
     "metadata": {},
     "output_type": "execute_result"
    }
   ],
   "source": [
    "%%time\n",
    "\n",
    "'''\n",
    "features = ['Text', 'char_count', 'word_count',\n",
    "       'word_density', 'punctuation_count', 'title_word_count',\n",
    "       'uppercase_word_count', 'adj_count', 'adv_count', 'noun_count',\n",
    "       'num_count', 'pron_count', 'propn_count', 'verb_count']\n",
    "'''\n",
    "#df['Text'] = df['Text'].apply(clean_text)\n",
    "df['Text'] = df['Text'].apply(parse_text)\n",
    "df['Text']"
   ]
  },
  {
   "cell_type": "code",
   "execution_count": 17,
   "metadata": {},
   "outputs": [
    {
     "name": "stdout",
     "output_type": "stream",
     "text": [
      "Wall time: 92.7 ms\n"
     ]
    },
    {
     "data": {
      "text/plain": [
       "((5465, 6817), (5465,), (1822, 6817), (1822,))"
      ]
     },
     "execution_count": 17,
     "metadata": {},
     "output_type": "execute_result"
    }
   ],
   "source": [
    "%%time\n",
    "\n",
    "X = df['Text']\n",
    "y = df['Fake']\n",
    "\n",
    "X_train, X_test, y_train, y_test = train_test_split(X, y, test_size=0.25)\n",
    "\n",
    "tv = TfidfVectorizer()\n",
    "Xv_train = tv.fit_transform(X_train)\n",
    "Xv_test = tv.transform(X_test)\n",
    "\n",
    "Xv_train.shape, y_train.shape, Xv_test.shape, y_test.shape"
   ]
  },
  {
   "cell_type": "markdown",
   "metadata": {},
   "source": [
    "#### Comment: Logistics Regression"
   ]
  },
  {
   "cell_type": "code",
   "execution_count": 18,
   "metadata": {},
   "outputs": [
    {
     "name": "stdout",
     "output_type": "stream",
     "text": [
      "Accuracy : 0.5785 [TP / N] Proportion of predicted labels that match the true labels. Best: 1, Worst: 0\n",
      "Precision: 0.5630 [TP / (TP + FP)] Not to label a negative sample as positive.        Best: 1, Worst: 0\n",
      "Recall   : 0.6036 [TP / (TP + FN)] Find all the positive samples.                     Best: 1, Worst: 0\n",
      "ROC AUC  : 0.5791                                                                     Best: 1, Worst: < 0.5\n",
      "-----------------------------------------------------------------------------------------------------------\n",
      "TP: True Positives, FP: False Positives, TN: True Negatives, FN: False Negatives, N: Number of samples\n"
     ]
    },
    {
     "data": {
      "image/png": "[encoded data removed]",
      "text/plain": [
       "<Figure size 1296x432 with 3 Axes>"
      ]
     },
     "metadata": {},
     "output_type": "display_data"
    },
    {
     "name": "stdout",
     "output_type": "stream",
     "text": [
      "Wall time: 402 ms\n"
     ]
    }
   ],
   "source": [
    "%%time\n",
    "\n",
    "from sklearn.linear_model import LogisticRegression\n",
    "\n",
    "clf = LogisticRegression()\n",
    "df_results.loc['LogisticRegression'] = train_model(clf, Xv_train, y_train, Xv_test, y_test)"
   ]
  },
  {
   "cell_type": "markdown",
   "metadata": {},
   "source": [
    "#### Comment: Naive Bayes"
   ]
  },
  {
   "cell_type": "code",
   "execution_count": 19,
   "metadata": {},
   "outputs": [
    {
     "name": "stdout",
     "output_type": "stream",
     "text": [
      "Accuracy : 0.5681 [TP / N] Proportion of predicted labels that match the true labels. Best: 1, Worst: 0\n",
      "Precision: 0.5560 [TP / (TP + FP)] Not to label a negative sample as positive.        Best: 1, Worst: 0\n",
      "Recall   : 0.5642 [TP / (TP + FN)] Find all the positive samples.                     Best: 1, Worst: 0\n",
      "ROC AUC  : 0.5680                                                                     Best: 1, Worst: < 0.5\n",
      "-----------------------------------------------------------------------------------------------------------\n",
      "TP: True Positives, FP: False Positives, TN: True Negatives, FN: False Negatives, N: Number of samples\n"
     ]
    },
    {
     "data": {
      "image/png": "[encoded data removed]",
      "text/plain": [
       "<Figure size 1296x432 with 3 Axes>"
      ]
     },
     "metadata": {},
     "output_type": "display_data"
    },
    {
     "name": "stdout",
     "output_type": "stream",
     "text": [
      "Wall time: 280 ms\n"
     ]
    }
   ],
   "source": [
    "%%time\n",
    "\n",
    "from sklearn.naive_bayes import MultinomialNB\n",
    "\n",
    "nb_clf = MultinomialNB()\n",
    "df_results.loc['NaiveBayes'] = train_model(nb_clf, Xv_train, y_train, Xv_test, y_test)\n"
   ]
  },
  {
   "cell_type": "markdown",
   "metadata": {},
   "source": [
    "#### Comment: Random Forest"
   ]
  },
  {
   "cell_type": "code",
   "execution_count": 20,
   "metadata": {
    "scrolled": false
   },
   "outputs": [
    {
     "name": "stdout",
     "output_type": "stream",
     "text": [
      "Accuracy : 0.5829 [TP / N] Proportion of predicted labels that match the true labels. Best: 1, Worst: 0\n",
      "Precision: 0.5637 [TP / (TP + FP)] Not to label a negative sample as positive.        Best: 1, Worst: 0\n",
      "Recall   : 0.6374 [TP / (TP + FN)] Find all the positive samples.                     Best: 1, Worst: 0\n",
      "ROC AUC  : 0.5842                                                                     Best: 1, Worst: < 0.5\n",
      "-----------------------------------------------------------------------------------------------------------\n",
      "TP: True Positives, FP: False Positives, TN: True Negatives, FN: False Negatives, N: Number of samples\n"
     ]
    },
    {
     "data": {
      "image/png": "[encoded data removed]",
      "text/plain": [
       "<Figure size 1296x432 with 3 Axes>"
      ]
     },
     "metadata": {},
     "output_type": "display_data"
    },
    {
     "name": "stdout",
     "output_type": "stream",
     "text": [
      "Wall time: 2.93 s\n"
     ]
    }
   ],
   "source": [
    "%%time\n",
    "\n",
    "from sklearn.ensemble import RandomForestClassifier\n",
    "\n",
    "rf_clf = RandomForestClassifier()\n",
    "\n",
    "df_results.loc['RandomForest'] = train_model(rf_clf, Xv_train, y_train, Xv_test, y_test)\n"
   ]
  },
  {
   "cell_type": "markdown",
   "metadata": {},
   "source": [
    "#### Comment: Gradient Boosting"
   ]
  },
  {
   "cell_type": "code",
   "execution_count": 21,
   "metadata": {},
   "outputs": [
    {
     "name": "stdout",
     "output_type": "stream",
     "text": [
      "Accuracy : 0.5615 [TP / N] Proportion of predicted labels that match the true labels. Best: 1, Worst: 0\n",
      "Precision: 0.5382 [TP / (TP + FP)] Not to label a negative sample as positive.        Best: 1, Worst: 0\n",
      "Recall   : 0.7061 [TP / (TP + FN)] Find all the positive samples.                     Best: 1, Worst: 0\n",
      "ROC AUC  : 0.5650                                                                     Best: 1, Worst: < 0.5\n",
      "-----------------------------------------------------------------------------------------------------------\n",
      "TP: True Positives, FP: False Positives, TN: True Negatives, FN: False Negatives, N: Number of samples\n"
     ]
    },
    {
     "data": {
      "image/png": "[encoded data removed]",
      "text/plain": [
       "<Figure size 1296x432 with 3 Axes>"
      ]
     },
     "metadata": {},
     "output_type": "display_data"
    },
    {
     "name": "stdout",
     "output_type": "stream",
     "text": [
      "Wall time: 1.36 s\n"
     ]
    }
   ],
   "source": [
    "%%time\n",
    "\n",
    "from sklearn.ensemble import GradientBoostingClassifier\n",
    "\n",
    "gb_clf = GradientBoostingClassifier()\n",
    "\n",
    "df_results.loc['GradientBoosting'] = train_model(gb_clf, Xv_train, y_train, Xv_test, y_test)\n"
   ]
  },
  {
   "cell_type": "markdown",
   "metadata": {},
   "source": [
    "#### Comment: View and compare results of different models"
   ]
  },
  {
   "cell_type": "code",
   "execution_count": 22,
   "metadata": {
    "scrolled": true
   },
   "outputs": [
    {
     "data": {
      "text/html": [
       "<div>\n",
       "<style scoped>\n",
       "    .dataframe tbody tr th:only-of-type {\n",
       "        vertical-align: middle;\n",
       "    }\n",
       "\n",
       "    .dataframe tbody tr th {\n",
       "        vertical-align: top;\n",
       "    }\n",
       "\n",
       "    .dataframe thead tr th {\n",
       "        text-align: left;\n",
       "    }\n",
       "</style>\n",
       "<table border=\"1\" class=\"dataframe\">\n",
       "  <thead>\n",
       "    <tr>\n",
       "      <th></th>\n",
       "      <th>Accuracy</th>\n",
       "      <th>Precision</th>\n",
       "      <th>Recall</th>\n",
       "      <th>ROC_AUC</th>\n",
       "    </tr>\n",
       "  </thead>\n",
       "  <tbody>\n",
       "    <tr>\n",
       "      <th>LogisticRegression</th>\n",
       "      <td>0.578485</td>\n",
       "      <td>0.563025</td>\n",
       "      <td>0.603604</td>\n",
       "      <td>0.579104</td>\n",
       "    </tr>\n",
       "    <tr>\n",
       "      <th>NaiveBayes</th>\n",
       "      <td>0.568057</td>\n",
       "      <td>0.556049</td>\n",
       "      <td>0.564189</td>\n",
       "      <td>0.567962</td>\n",
       "    </tr>\n",
       "    <tr>\n",
       "      <th>RandomForest</th>\n",
       "      <td>0.582876</td>\n",
       "      <td>0.563745</td>\n",
       "      <td>0.637387</td>\n",
       "      <td>0.584218</td>\n",
       "    </tr>\n",
       "    <tr>\n",
       "      <th>GradientBoosting</th>\n",
       "      <td>0.561471</td>\n",
       "      <td>0.538197</td>\n",
       "      <td>0.706081</td>\n",
       "      <td>0.565032</td>\n",
       "    </tr>\n",
       "  </tbody>\n",
       "</table>\n",
       "</div>"
      ],
      "text/plain": [
       "                    Accuracy Precision    Recall   ROC_AUC\n",
       "LogisticRegression  0.578485  0.563025  0.603604  0.579104\n",
       "NaiveBayes          0.568057  0.556049  0.564189  0.567962\n",
       "RandomForest        0.582876  0.563745  0.637387  0.584218\n",
       "GradientBoosting    0.561471  0.538197  0.706081  0.565032"
      ]
     },
     "execution_count": 22,
     "metadata": {},
     "output_type": "execute_result"
    }
   ],
   "source": [
    "df_results"
   ]
  },
  {
   "cell_type": "markdown",
   "metadata": {},
   "source": [
    "#### Comment: Stacking"
   ]
  },
  {
   "cell_type": "code",
   "execution_count": 23,
   "metadata": {
    "scrolled": true
   },
   "outputs": [
    {
     "name": "stdout",
     "output_type": "stream",
     "text": [
      "Accuracy : 0.5840 [TP / N] Proportion of predicted labels that match the true labels. Best: 1, Worst: 0\n",
      "Precision: 0.5703 [TP / (TP + FP)] Not to label a negative sample as positive.        Best: 1, Worst: 0\n",
      "Recall   : 0.5935 [TP / (TP + FN)] Find all the positive samples.                     Best: 1, Worst: 0\n",
      "ROC AUC  : 0.5842                                                                     Best: 1, Worst: < 0.5\n",
      "-----------------------------------------------------------------------------------------------------------\n",
      "TP: True Positives, FP: False Positives, TN: True Negatives, FN: False Negatives, N: Number of samples\n"
     ]
    },
    {
     "data": {
      "image/png": "[encoded data removed]",
      "text/plain": [
       "<Figure size 1296x432 with 3 Axes>"
      ]
     },
     "metadata": {},
     "output_type": "display_data"
    },
    {
     "name": "stdout",
     "output_type": "stream",
     "text": [
      "Wall time: 39.8 s\n"
     ]
    }
   ],
   "source": [
    "%%time\n",
    "\n",
    "from sklearn.ensemble import StackingClassifier\n",
    "\n",
    "estimators = [\n",
    "    ('nb', nb_clf),\n",
    "    ('rf', rf_clf),\n",
    "    ('gb', gb_clf)]\n",
    "\n",
    "stack_model = StackingClassifier(estimators=estimators, final_estimator=clf)\n",
    "\n",
    "df_results.loc['StackModel'] = train_model(stack_model, Xv_train, y_train, Xv_test, y_test)\n"
   ]
  },
  {
   "cell_type": "code",
   "execution_count": 24,
   "metadata": {},
   "outputs": [
    {
     "data": {
      "text/html": [
       "<div>\n",
       "<style scoped>\n",
       "    .dataframe tbody tr th:only-of-type {\n",
       "        vertical-align: middle;\n",
       "    }\n",
       "\n",
       "    .dataframe tbody tr th {\n",
       "        vertical-align: top;\n",
       "    }\n",
       "\n",
       "    .dataframe thead tr th {\n",
       "        text-align: left;\n",
       "    }\n",
       "</style>\n",
       "<table border=\"1\" class=\"dataframe\">\n",
       "  <thead>\n",
       "    <tr>\n",
       "      <th></th>\n",
       "      <th>Accuracy</th>\n",
       "      <th>Precision</th>\n",
       "      <th>Recall</th>\n",
       "      <th>ROC_AUC</th>\n",
       "    </tr>\n",
       "  </thead>\n",
       "  <tbody>\n",
       "    <tr>\n",
       "      <th>LogisticRegression</th>\n",
       "      <td>0.578485</td>\n",
       "      <td>0.563025</td>\n",
       "      <td>0.603604</td>\n",
       "      <td>0.579104</td>\n",
       "    </tr>\n",
       "    <tr>\n",
       "      <th>NaiveBayes</th>\n",
       "      <td>0.568057</td>\n",
       "      <td>0.556049</td>\n",
       "      <td>0.564189</td>\n",
       "      <td>0.567962</td>\n",
       "    </tr>\n",
       "    <tr>\n",
       "      <th>RandomForest</th>\n",
       "      <td>0.582876</td>\n",
       "      <td>0.563745</td>\n",
       "      <td>0.637387</td>\n",
       "      <td>0.584218</td>\n",
       "    </tr>\n",
       "    <tr>\n",
       "      <th>GradientBoosting</th>\n",
       "      <td>0.561471</td>\n",
       "      <td>0.538197</td>\n",
       "      <td>0.706081</td>\n",
       "      <td>0.565032</td>\n",
       "    </tr>\n",
       "    <tr>\n",
       "      <th>StackModel</th>\n",
       "      <td>0.583974</td>\n",
       "      <td>0.570346</td>\n",
       "      <td>0.593468</td>\n",
       "      <td>0.584207</td>\n",
       "    </tr>\n",
       "  </tbody>\n",
       "</table>\n",
       "</div>"
      ],
      "text/plain": [
       "                    Accuracy Precision    Recall   ROC_AUC\n",
       "LogisticRegression  0.578485  0.563025  0.603604  0.579104\n",
       "NaiveBayes          0.568057  0.556049  0.564189  0.567962\n",
       "RandomForest        0.582876  0.563745  0.637387  0.584218\n",
       "GradientBoosting    0.561471  0.538197  0.706081  0.565032\n",
       "StackModel          0.583974  0.570346  0.593468  0.584207"
      ]
     },
     "execution_count": 24,
     "metadata": {},
     "output_type": "execute_result"
    }
   ],
   "source": [
    "df_results"
   ]
  },
  {
   "cell_type": "markdown",
   "metadata": {},
   "source": [
    "#### Comment: Finally apply predictions (using stack model) on Test Set"
   ]
  },
  {
   "cell_type": "code",
   "execution_count": 25,
   "metadata": {},
   "outputs": [
    {
     "data": {
      "text/plain": [
       "<AxesSubplot:xlabel='Fake', ylabel='count'>"
      ]
     },
     "execution_count": 25,
     "metadata": {},
     "output_type": "execute_result"
    },
    {
     "data": {
      "image/png": "[encoded data removed]",
      "text/plain": [
       "<Figure size 432x288 with 1 Axes>"
      ]
     },
     "metadata": {},
     "output_type": "display_data"
    }
   ],
   "source": [
    "pred = tv.transform(test_df['Text'].apply(parse_text))\n",
    "test_df['Fake'] = stack_model.predict(pred)\n",
    "plot_distribution(test_df)"
   ]
  },
  {
   "cell_type": "code",
   "execution_count": 26,
   "metadata": {},
   "outputs": [
    {
     "data": {
      "text/html": [
       "<div>\n",
       "<style scoped>\n",
       "    .dataframe tbody tr th:only-of-type {\n",
       "        vertical-align: middle;\n",
       "    }\n",
       "\n",
       "    .dataframe tbody tr th {\n",
       "        vertical-align: top;\n",
       "    }\n",
       "\n",
       "    .dataframe thead th {\n",
       "        text-align: right;\n",
       "    }\n",
       "</style>\n",
       "<table border=\"1\" class=\"dataframe\">\n",
       "  <thead>\n",
       "    <tr style=\"text-align: right;\">\n",
       "      <th></th>\n",
       "      <th>Text</th>\n",
       "      <th>Text_Tag</th>\n",
       "      <th>Fake</th>\n",
       "    </tr>\n",
       "  </thead>\n",
       "  <tbody>\n",
       "    <tr>\n",
       "      <th>0</th>\n",
       "      <td>Building a wall on the U.S.-Mexico border will...</td>\n",
       "      <td>immigration</td>\n",
       "      <td>1</td>\n",
       "    </tr>\n",
       "    <tr>\n",
       "      <th>1</th>\n",
       "      <td>Wisconsin is on pace to double the number of l...</td>\n",
       "      <td>jobs</td>\n",
       "      <td>1</td>\n",
       "    </tr>\n",
       "    <tr>\n",
       "      <th>2</th>\n",
       "      <td>Says John McCain has done nothing to help the ...</td>\n",
       "      <td>military,veterans,voting-record</td>\n",
       "      <td>0</td>\n",
       "    </tr>\n",
       "    <tr>\n",
       "      <th>3</th>\n",
       "      <td>Suzanne Bonamici supports a plan that will cut...</td>\n",
       "      <td>medicare,message-machine-2012,campaign-adverti...</td>\n",
       "      <td>1</td>\n",
       "    </tr>\n",
       "    <tr>\n",
       "      <th>4</th>\n",
       "      <td>When asked by a reporter whether hes at the ce...</td>\n",
       "      <td>campaign-finance,legal-issues,campaign-adverti...</td>\n",
       "      <td>1</td>\n",
       "    </tr>\n",
       "    <tr>\n",
       "      <th>...</th>\n",
       "      <td>...</td>\n",
       "      <td>...</td>\n",
       "      <td>...</td>\n",
       "    </tr>\n",
       "    <tr>\n",
       "      <th>10203</th>\n",
       "      <td>Says Bernie Sanders wins California landslide,...</td>\n",
       "      <td>elections</td>\n",
       "      <td>0</td>\n",
       "    </tr>\n",
       "    <tr>\n",
       "      <th>10206</th>\n",
       "      <td>Gov. Scott Walker (is) more than halfway to (h...</td>\n",
       "      <td>jobs</td>\n",
       "      <td>1</td>\n",
       "    </tr>\n",
       "    <tr>\n",
       "      <th>10227</th>\n",
       "      <td>Recently though, the media has reported on tho...</td>\n",
       "      <td>elections</td>\n",
       "      <td>1</td>\n",
       "    </tr>\n",
       "    <tr>\n",
       "      <th>10233</th>\n",
       "      <td>Mayor Fung wants to punish our childrens educa...</td>\n",
       "      <td>children,city-budget,deficit,education,state-b...</td>\n",
       "      <td>0</td>\n",
       "    </tr>\n",
       "    <tr>\n",
       "      <th>10239</th>\n",
       "      <td>The Department of Veterans Affairs has a manua...</td>\n",
       "      <td>health-care,veterans</td>\n",
       "      <td>1</td>\n",
       "    </tr>\n",
       "  </tbody>\n",
       "</table>\n",
       "<p>2106 rows × 3 columns</p>\n",
       "</div>"
      ],
      "text/plain": [
       "                                                    Text  \\\n",
       "0      Building a wall on the U.S.-Mexico border will...   \n",
       "1      Wisconsin is on pace to double the number of l...   \n",
       "2      Says John McCain has done nothing to help the ...   \n",
       "3      Suzanne Bonamici supports a plan that will cut...   \n",
       "4      When asked by a reporter whether hes at the ce...   \n",
       "...                                                  ...   \n",
       "10203  Says Bernie Sanders wins California landslide,...   \n",
       "10206  Gov. Scott Walker (is) more than halfway to (h...   \n",
       "10227  Recently though, the media has reported on tho...   \n",
       "10233  Mayor Fung wants to punish our childrens educa...   \n",
       "10239  The Department of Veterans Affairs has a manua...   \n",
       "\n",
       "                                                Text_Tag  Fake  \n",
       "0                                            immigration     1  \n",
       "1                                                   jobs     1  \n",
       "2                        military,veterans,voting-record     0  \n",
       "3      medicare,message-machine-2012,campaign-adverti...     1  \n",
       "4      campaign-finance,legal-issues,campaign-adverti...     1  \n",
       "...                                                  ...   ...  \n",
       "10203                                          elections     0  \n",
       "10206                                               jobs     1  \n",
       "10227                                          elections     1  \n",
       "10233  children,city-budget,deficit,education,state-b...     0  \n",
       "10239                               health-care,veterans     1  \n",
       "\n",
       "[2106 rows x 3 columns]"
      ]
     },
     "execution_count": 26,
     "metadata": {},
     "output_type": "execute_result"
    }
   ],
   "source": [
    "test_df"
   ]
  }
 ],
 "metadata": {
  "kernelspec": {
   "display_name": "Python 3",
   "language": "python",
   "name": "python3"
  },
  "language_info": {
   "codemirror_mode": {
    "name": "ipython",
    "version": 3
   },
   "file_extension": ".py",
   "mimetype": "text/x-python",
   "name": "python",
   "nbconvert_exporter": "python",
   "pygments_lexer": "ipython3",
   "version": "3.8.5"
  }
 },
 "nbformat": 4,
 "nbformat_minor": 4
}
