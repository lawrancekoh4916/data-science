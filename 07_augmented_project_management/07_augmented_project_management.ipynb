{
 "cells": [
  {
   "cell_type": "code",
   "execution_count": 1,
   "metadata": {},
   "outputs": [
    {
     "name": "stdout",
     "output_type": "stream",
     "text": [
      "\n",
      "========================================================================================\n",
      "CAPSTONE PROJECT - AI AUGMENTED PROJECT MANAGEMENT\n",
      "Author: \t Lawrance Koh (@LK)\n",
      "========================================================================================\n",
      "Python: \t 3.8.5 (default, Sep  3 2020, 21:29:08) [MSC v.1916 64 bit (AMD64)]\n",
      "Scipy:  \t 1.5.2\n",
      "SKLearn:  \t 0.23.2\n",
      "Numpy:  \t 1.19.2\n",
      "Pandas: \t 1.1.3\n",
      "MatPlotLib: \t 3.3.2\n",
      "SQLite3: \t 2.6.0\n",
      "======================================================================================== \n",
      "\n"
     ]
    }
   ],
   "source": [
    "#import libraries\n",
    "import sys\n",
    "import scipy\n",
    "import numpy as np\n",
    "import math\n",
    "import random\n",
    "\n",
    "import pandas as pd\n",
    "\n",
    "from pandas.io import sql\n",
    "import sqlite3\n",
    "\n",
    "import sklearn\n",
    "from sklearn import preprocessing\n",
    "from sklearn.model_selection import train_test_split\n",
    "\n",
    "import matplotlib\n",
    "import matplotlib.pyplot as plt\n",
    "import seaborn as sns\n",
    "\n",
    "# Cause plots to be displayed in the notebook:\n",
    "%matplotlib inline\n",
    "\n",
    "#print('Available plot styles: ' + str(plt.style.available))\n",
    "plt.style.use('seaborn-dark')\n",
    "\n",
    "from sklearn.metrics import confusion_matrix\n",
    "from sklearn.metrics import plot_confusion_matrix\n",
    "from sklearn.metrics import accuracy_score\n",
    "from sklearn.metrics import f1_score\n",
    "\n",
    "#helper function for plotting a count distribution\n",
    "def plot_distribution(datafile, field):\n",
    "    return sns.countplot(x=field, data=datafile, palette='hls')\n",
    "\n",
    "print('')\n",
    "print('='*88)\n",
    "print('CAPSTONE PROJECT - AI AUGMENTED PROJECT MANAGEMENT')\n",
    "print('Author: \\t Lawrance Koh (@LK)')\n",
    "print('='*88)\n",
    "print('Python: \\t', sys.version)\n",
    "print('Scipy:  \\t', scipy.__version__)\n",
    "print('SKLearn:  \\t', sklearn.__version__)\n",
    "print('Numpy:  \\t', np.__version__)\n",
    "print('Pandas: \\t', pd.__version__)\n",
    "print('MatPlotLib: \\t', matplotlib.__version__)\n",
    "print('SQLite3: \\t', sqlite3.version)\n",
    "print('='*88, \"\\n\")\n",
    "\n",
    "#suppress warnings\n",
    "import warnings\n",
    "warnings.filterwarnings(\"ignore\")\n"
   ]
  },
  {
   "cell_type": "code",
   "execution_count": 2,
   "metadata": {},
   "outputs": [
    {
     "data": {
      "text/plain": [
       "<AxesSubplot:xlabel='label', ylabel='count'>"
      ]
     },
     "execution_count": 2,
     "metadata": {},
     "output_type": "execute_result"
    },
    {
     "data": {
      "image/png": "[encoded data removed]",
      "text/plain": [
       "<Figure size 432x288 with 1 Axes>"
      ]
     },
     "metadata": {},
     "output_type": "display_data"
    }
   ],
   "source": [
    "data = pd.read_excel('./Data/capstone_raw.xlsx', index_col=None, sheet_name='tasks_phrases')\n",
    "data_dict = pd.read_excel('./Data/capstone_raw.xlsx', index_col=1, sheet_name='tag_dictionary')\n",
    "\n",
    "#map tag with label referencing data dictionary\n",
    "data['label'] = data['tag'].apply(lambda x: data_dict.loc[x]['label'])\n",
    "\n",
    "plot_distribution(data, 'label') # view distribution of labels\n",
    "\n",
    "#labels are nominal categorical "
   ]
  },
  {
   "cell_type": "code",
   "execution_count": 3,
   "metadata": {},
   "outputs": [],
   "source": [
    "import re\n",
    "import string\n",
    "\n",
    "def clean_text(text):\n",
    "    text = text.lower()\n",
    "    text = re.sub('\\[.*?\\]', '', text)\n",
    "    text = re.sub('\\\\W', ' ', text)\n",
    "    text = re.sub('https?://\\S+|www\\.\\S+', '', text)\n",
    "    text = re.sub('<.*?>+', '', text)\n",
    "    text = re.sub('[%s]' % re.escape(string.punctuation), '', text)\n",
    "    text = re.sub('\\n', '', text)\n",
    "    text = re.sub('\\w*\\d\\w*', '', text)\n",
    "    return text\n",
    "\n",
    "import spacy\n",
    "nlp = spacy.load('en_core_web_sm')\n",
    "\n",
    "def parse_text(text):\n",
    "    sent = nlp(text)\n",
    "    ents = {x.text: x for x in sent.ents}\n",
    "    tokens = []\n",
    "    for w in sent:\n",
    "        if w.is_stop or w.is_punct or w.is_digit:\n",
    "            continue\n",
    "        if w.text in ents:\n",
    "            tokens.append(w.text)\n",
    "        else:\n",
    "            tokens.append(w.lemma_.lower())\n",
    "    text = ' '.join(tokens)\n",
    "    \n",
    "    #clean up\n",
    "    text = re.sub(r'[,-]', ' ', text)\n",
    "    \n",
    "    return text\n"
   ]
  },
  {
   "cell_type": "code",
   "execution_count": 4,
   "metadata": {},
   "outputs": [
    {
     "name": "stdout",
     "output_type": "stream",
     "text": [
      "Wall time: 4.14 s\n"
     ]
    },
    {
     "data": {
      "text/plain": [
       "((1046, 603), (1046,), (349, 603), (349,))"
      ]
     },
     "execution_count": 4,
     "metadata": {},
     "output_type": "execute_result"
    }
   ],
   "source": [
    "%%time\n",
    "\n",
    "X = data['task'].apply(parse_text)\n",
    "y = data['label']\n",
    "\n",
    "X_train, X_test, y_train, y_test = train_test_split(X, y, test_size=0.25)\n",
    "\n",
    "from sklearn.feature_extraction.text import TfidfVectorizer\n",
    "\n",
    "tv = TfidfVectorizer()\n",
    "Xv_train = tv.fit_transform(X_train)\n",
    "Xv_test = tv.transform(X_test)\n",
    "\n",
    "Xv_train.shape, y_train.shape, Xv_test.shape, y_test.shape"
   ]
  },
  {
   "cell_type": "code",
   "execution_count": 5,
   "metadata": {},
   "outputs": [],
   "source": [
    "## helper functions\n",
    "\n",
    "def train_model(classifier, feature_vector_train, label, feature_vector_valid, feature_vector_test):\n",
    "    # fit the training dataset on the classifier\n",
    "    classifier.fit(feature_vector_train, label)\n",
    "\n",
    "    # predict the labels on validation dataset\n",
    "    predictions = classifier.predict(feature_vector_valid)\n",
    "\n",
    "    #return accuracy_score(predictions, y_test)\n",
    "    return show_summary_report(feature_vector_test, predictions)\n",
    "\n",
    "def show_summary_report(actual, prediction):\n",
    "\n",
    "    if isinstance(actual, pd.Series):\n",
    "        actual = actual.values\n",
    "    if actual.dtype.name == 'object':\n",
    "        actual = actual.astype(int)\n",
    "    if prediction.dtype.name == 'object':\n",
    "        prediction = prediction.astype(int)\n",
    "\n",
    "    accuracy_ = accuracy_score(actual, prediction)\n",
    "    f1_micro_ = f1_score(actual, prediction, average='micro')\n",
    "    f1_macro_ = f1_score(actual, prediction, average='macro')\n",
    "    f1_weighted_ = f1_score(actual, prediction, average='weighted')\n",
    "\n",
    "    print('Accuracy : %.4f [TP / N] Proportion of predicted labels that match its tagged labels. Best: 1, Worst: 0' % accuracy_)\n",
    "    print('F1 (Micro) : %.4f' % f1_micro_ )\n",
    "    print('F1 (Macro) : %.4f' % f1_macro_ )\n",
    "    print('F1 (Weighted) : %.4f' % f1_weighted_ )\n",
    "    print('-' * 107)\n",
    "    print('TP: True Positives, FP: False Positives, TN: True Negatives, FN: False Negatives, N: Number of samples')\n",
    "\n",
    "    # Confusion Matrix\n",
    "    mat = confusion_matrix(actual, prediction)\n",
    "\n",
    "    # Confusion Matrix\n",
    "    sns.heatmap(mat.T, square = True, annot = True, fmt = 'd', cbar = False, cmap = 'Blues')\n",
    "\n",
    "    plt.show()\n",
    "    \n",
    "    return (accuracy_, f1_micro_, f1_macro_, f1_weighted_)\n",
    "\n",
    "#initialise dataframe to view results\n",
    "df_results = pd.DataFrame(columns=[['Accuracy', 'F1_Micro', 'F1_Macro', 'F1_Weighted']])\n"
   ]
  },
  {
   "cell_type": "code",
   "execution_count": 6,
   "metadata": {},
   "outputs": [
    {
     "name": "stdout",
     "output_type": "stream",
     "text": [
      "Accuracy : 0.7736 [TP / N] Proportion of predicted labels that match its tagged labels. Best: 1, Worst: 0\n",
      "F1 (Micro) : 0.7736\n",
      "F1 (Macro) : 0.6567\n",
      "F1 (Weighted) : 0.7671\n",
      "-----------------------------------------------------------------------------------------------------------\n",
      "TP: True Positives, FP: False Positives, TN: True Negatives, FN: False Negatives, N: Number of samples\n"
     ]
    },
    {
     "data": {
      "image/png": "[encoded data removed]",
      "text/plain": [
       "<Figure size 432x288 with 1 Axes>"
      ]
     },
     "metadata": {},
     "output_type": "display_data"
    },
    {
     "name": "stdout",
     "output_type": "stream",
     "text": [
      "Wall time: 636 ms\n"
     ]
    }
   ],
   "source": [
    "%%time\n",
    "\n",
    "from sklearn.linear_model import LogisticRegression\n",
    "\n",
    "clf = LogisticRegression(solver='saga', multi_class='multinomial', max_iter=10000)\n",
    "df_results.loc['LogisticRegression'] = train_model(clf, Xv_train, y_train, Xv_test, y_test)\n"
   ]
  },
  {
   "cell_type": "code",
   "execution_count": 7,
   "metadata": {},
   "outputs": [
    {
     "name": "stdout",
     "output_type": "stream",
     "text": [
      "Accuracy : 0.7307 [TP / N] Proportion of predicted labels that match its tagged labels. Best: 1, Worst: 0\n",
      "F1 (Micro) : 0.7307\n",
      "F1 (Macro) : 0.5777\n",
      "F1 (Weighted) : 0.7155\n",
      "-----------------------------------------------------------------------------------------------------------\n",
      "TP: True Positives, FP: False Positives, TN: True Negatives, FN: False Negatives, N: Number of samples\n"
     ]
    },
    {
     "data": {
      "image/png": "[encoded data removed]",
      "text/plain": [
       "<Figure size 432x288 with 1 Axes>"
      ]
     },
     "metadata": {},
     "output_type": "display_data"
    },
    {
     "name": "stdout",
     "output_type": "stream",
     "text": [
      "Wall time: 542 ms\n"
     ]
    }
   ],
   "source": [
    "%%time\n",
    "\n",
    "from sklearn.naive_bayes import MultinomialNB\n",
    "\n",
    "nb_clf = MultinomialNB()\n",
    "df_results.loc['MultiNomial_NaiveBayes'] = train_model(nb_clf, Xv_train, y_train, Xv_test, y_test)\n"
   ]
  },
  {
   "cell_type": "code",
   "execution_count": 8,
   "metadata": {},
   "outputs": [
    {
     "name": "stdout",
     "output_type": "stream",
     "text": [
      "Accuracy : 0.8252 [TP / N] Proportion of predicted labels that match its tagged labels. Best: 1, Worst: 0\n",
      "F1 (Micro) : 0.8252\n",
      "F1 (Macro) : 0.8233\n",
      "F1 (Weighted) : 0.8219\n",
      "-----------------------------------------------------------------------------------------------------------\n",
      "TP: True Positives, FP: False Positives, TN: True Negatives, FN: False Negatives, N: Number of samples\n"
     ]
    },
    {
     "data": {
      "image/png": "[encoded data removed]",
      "text/plain": [
       "<Figure size 432x288 with 1 Axes>"
      ]
     },
     "metadata": {},
     "output_type": "display_data"
    },
    {
     "name": "stdout",
     "output_type": "stream",
     "text": [
      "Wall time: 834 ms\n"
     ]
    }
   ],
   "source": [
    "%%time\n",
    "\n",
    "from sklearn.ensemble import RandomForestClassifier\n",
    "\n",
    "rf_clf = RandomForestClassifier()\n",
    "\n",
    "df_results.loc['RandomForest'] = train_model(rf_clf, Xv_train, y_train, Xv_test, y_test)\n"
   ]
  },
  {
   "cell_type": "code",
   "execution_count": 9,
   "metadata": {},
   "outputs": [
    {
     "name": "stdout",
     "output_type": "stream",
     "text": [
      "Accuracy : 0.8252 [TP / N] Proportion of predicted labels that match its tagged labels. Best: 1, Worst: 0\n",
      "F1 (Micro) : 0.8252\n",
      "F1 (Macro) : 0.8253\n",
      "F1 (Weighted) : 0.8234\n",
      "-----------------------------------------------------------------------------------------------------------\n",
      "TP: True Positives, FP: False Positives, TN: True Negatives, FN: False Negatives, N: Number of samples\n"
     ]
    },
    {
     "data": {
      "image/png": "[encoded data removed]",
      "text/plain": [
       "<Figure size 432x288 with 1 Axes>"
      ]
     },
     "metadata": {},
     "output_type": "display_data"
    },
    {
     "name": "stdout",
     "output_type": "stream",
     "text": [
      "Wall time: 1.63 s\n"
     ]
    }
   ],
   "source": [
    "%%time\n",
    "\n",
    "from sklearn.ensemble import GradientBoostingClassifier\n",
    "\n",
    "gb_clf = GradientBoostingClassifier()\n",
    "\n",
    "df_results.loc['GradientBoosting'] = train_model(gb_clf, Xv_train, y_train, Xv_test, y_test)\n"
   ]
  },
  {
   "cell_type": "code",
   "execution_count": 10,
   "metadata": {},
   "outputs": [
    {
     "name": "stdout",
     "output_type": "stream",
     "text": [
      "Accuracy : 0.8424 [TP / N] Proportion of predicted labels that match its tagged labels. Best: 1, Worst: 0\n",
      "F1 (Micro) : 0.8424\n",
      "F1 (Macro) : 0.8376\n",
      "F1 (Weighted) : 0.8408\n",
      "-----------------------------------------------------------------------------------------------------------\n",
      "TP: True Positives, FP: False Positives, TN: True Negatives, FN: False Negatives, N: Number of samples\n"
     ]
    },
    {
     "data": {
      "image/png": "[encoded data removed]",
      "text/plain": [
       "<Figure size 432x288 with 1 Axes>"
      ]
     },
     "metadata": {},
     "output_type": "display_data"
    },
    {
     "name": "stdout",
     "output_type": "stream",
     "text": [
      "Wall time: 9.94 s\n"
     ]
    }
   ],
   "source": [
    "%%time\n",
    "\n",
    "from sklearn.ensemble import StackingClassifier\n",
    "\n",
    "estimators = [\n",
    "    ('nb', nb_clf),\n",
    "    ('rf', rf_clf),\n",
    "    ('gb', gb_clf)]\n",
    "\n",
    "stack_model = StackingClassifier(estimators=estimators, final_estimator=clf)\n",
    "\n",
    "df_results.loc['StackModel'] = train_model(stack_model, Xv_train, y_train, Xv_test, y_test)\n"
   ]
  },
  {
   "cell_type": "code",
   "execution_count": 11,
   "metadata": {},
   "outputs": [
    {
     "data": {
      "text/html": [
       "<div>\n",
       "<style scoped>\n",
       "    .dataframe tbody tr th:only-of-type {\n",
       "        vertical-align: middle;\n",
       "    }\n",
       "\n",
       "    .dataframe tbody tr th {\n",
       "        vertical-align: top;\n",
       "    }\n",
       "\n",
       "    .dataframe thead tr th {\n",
       "        text-align: left;\n",
       "    }\n",
       "</style>\n",
       "<table border=\"1\" class=\"dataframe\">\n",
       "  <thead>\n",
       "    <tr>\n",
       "      <th></th>\n",
       "      <th>Accuracy</th>\n",
       "      <th>F1_Micro</th>\n",
       "      <th>F1_Macro</th>\n",
       "      <th>F1_Weighted</th>\n",
       "    </tr>\n",
       "  </thead>\n",
       "  <tbody>\n",
       "    <tr>\n",
       "      <th>LogisticRegression</th>\n",
       "      <td>0.773639</td>\n",
       "      <td>0.773639</td>\n",
       "      <td>0.656692</td>\n",
       "      <td>0.767086</td>\n",
       "    </tr>\n",
       "    <tr>\n",
       "      <th>MultiNomial_NaiveBayes</th>\n",
       "      <td>0.730659</td>\n",
       "      <td>0.730659</td>\n",
       "      <td>0.577705</td>\n",
       "      <td>0.715514</td>\n",
       "    </tr>\n",
       "    <tr>\n",
       "      <th>RandomForest</th>\n",
       "      <td>0.825215</td>\n",
       "      <td>0.825215</td>\n",
       "      <td>0.823288</td>\n",
       "      <td>0.821934</td>\n",
       "    </tr>\n",
       "    <tr>\n",
       "      <th>GradientBoosting</th>\n",
       "      <td>0.825215</td>\n",
       "      <td>0.825215</td>\n",
       "      <td>0.825298</td>\n",
       "      <td>0.823378</td>\n",
       "    </tr>\n",
       "    <tr>\n",
       "      <th>StackModel</th>\n",
       "      <td>0.842407</td>\n",
       "      <td>0.842407</td>\n",
       "      <td>0.837564</td>\n",
       "      <td>0.840847</td>\n",
       "    </tr>\n",
       "  </tbody>\n",
       "</table>\n",
       "</div>"
      ],
      "text/plain": [
       "                        Accuracy  F1_Micro  F1_Macro F1_Weighted\n",
       "LogisticRegression      0.773639  0.773639  0.656692    0.767086\n",
       "MultiNomial_NaiveBayes  0.730659  0.730659  0.577705    0.715514\n",
       "RandomForest            0.825215  0.825215  0.823288    0.821934\n",
       "GradientBoosting        0.825215  0.825215  0.825298    0.823378\n",
       "StackModel              0.842407  0.842407  0.837564    0.840847"
      ]
     },
     "execution_count": 11,
     "metadata": {},
     "output_type": "execute_result"
    }
   ],
   "source": [
    "df_results"
   ]
  }
 ],
 "metadata": {
  "kernelspec": {
   "display_name": "Python 3",
   "language": "python",
   "name": "python3"
  },
  "language_info": {
   "codemirror_mode": {
    "name": "ipython",
    "version": 3
   },
   "file_extension": ".py",
   "mimetype": "text/x-python",
   "name": "python",
   "nbconvert_exporter": "python",
   "pygments_lexer": "ipython3",
   "version": "3.8.5"
  }
 },
 "nbformat": 4,
 "nbformat_minor": 4
}
